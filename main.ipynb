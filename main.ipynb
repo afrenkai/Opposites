{
 "cells": [
  {
   "cell_type": "code",
   "execution_count": null,
   "id": "initial_id",
   "metadata": {
    "collapsed": true
   },
   "outputs": [],
   "source": [
    ""
   ]
  },
  {
   "metadata": {},
   "cell_type": "code",
   "outputs": [],
   "execution_count": null,
   "source": [
    "import nltk\n",
    "from nltk.corpus import wordnet as wn\n",
    "import pandas as pd\n",
    "from transformers import T5Tokenizer, T5ForConditionalGeneration, Trainer, TrainingArguments\n",
    "from datasets import Dataset\n",
    "import gradio as gr\n",
    "\n",
    "nltk.download('wordnet')\n",
    "nltk.download('omw-1.4')\n",
    "\n",
    "\n",
    "\n",
    "def create_wordnet_antonym_dataset():\n",
    "    antonym_pairs = []\n",
    "\n",
    "    for syn in wn.all_synsets():\n",
    "        for lemma in syn.lemmas():\n",
    "            if lemma.antonyms():\n",
    "                word = lemma.name().replace('_', ' ')\n",
    "                antonym = lemma.antonyms()[0].name().replace('_', ' ')\n",
    "                antonym_pairs.append((word, antonym))\n",
    "\n",
    "    # Create a DataFrame\n",
    "    df = pd.DataFrame(antonym_pairs, columns=['input_phrase', 'opposite_phrase'])\n",
    "    return df\n",
    "\n",
    "# Create the dataset\n",
    "df = create_wordnet_antonym_dataset()\n",
    "\n",
    "# Save the dataset to a CSV (optional)\n",
    "df.to_csv('wordnet_antonyms.csv', index=False)\n",
    "\n",
    "# Convert to HuggingFace Dataset\n",
    "dataset = Dataset.from_pandas(df)\n",
    "print(dataset)"
   ],
   "id": "b65f9a2ea4aeb9f5"
  }
 ],
 "metadata": {
  "kernelspec": {
   "display_name": "Python 3",
   "language": "python",
   "name": "python3"
  },
  "language_info": {
   "codemirror_mode": {
    "name": "ipython",
    "version": 2
   },
   "file_extension": ".py",
   "mimetype": "text/x-python",
   "name": "python",
   "nbconvert_exporter": "python",
   "pygments_lexer": "ipython2",
   "version": "2.7.6"
  }
 },
 "nbformat": 4,
 "nbformat_minor": 5
}
